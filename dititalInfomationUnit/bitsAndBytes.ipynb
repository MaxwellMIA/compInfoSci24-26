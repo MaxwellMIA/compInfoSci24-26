{
 "cells": [
  {
   "cell_type": "markdown",
   "id": "874ade7e",
   "metadata": {},
   "source": [
    "# Bits and Bytes"
   ]
  },
  {
   "cell_type": "markdown",
   "id": "3505d0c3",
   "metadata": {},
   "source": [
    "Bit - smallest unit of data. A bit is represented by either a 1 or a 0\n",
    "\n",
    "* differentita between 10000 \"Mega Bits\" or \"Mega Bytes\"\n",
    "\n",
    "Byte - String of 8 1's or 0's.\n",
    "\n",
    "\n",
    "A -- 01000001\n",
    "Max -- 01001101 01100001 01111000 \n",
    "Computer Science -- 01000011 01101111 01101101 01110000 01110101 01110100 01100101 01110010 00100000 01010011 01100011 01101001 01100101 01101110 01100011 01100101\n",
    "\n",
    "(01001101 01100001 01111000 00100000 01101100 01101111 01110110 01100101 01110011 00100000 01010011 01101001 01101101 01101111 01101110)\n",
    "\n",
    "255 -- 00110010 00110101 00110101\n",
    "\n",
    "### Representing color\n",
    "\n",
    "- Hexidecimal -- #33 99 ee\n",
    "- RGB -- (255, 145, 98) -- 00110010 00110101 00110101, 00110001 00110100 00110101, 00111001 00111000"
   ]
  },
  {
   "cell_type": "markdown",
   "id": "6b331fef",
   "metadata": {},
   "source": [
    "### series of bits\n",
    "\n",
    "- 1 bit -- 2 dofferant combinations: 0, 1\n",
    "- 2 bits -- 4 differant combinateions: 00, 01, 10, 11\n",
    "- 3 bits -- 8 differnt combinateions 000, 001, 010, 011, 100, 101, 110, 111\n",
    "- 4 bits -- 16 differant combinations\n",
    "- 5 bits -- 32 differant combiantions \n",
    "- 6 bits -- 64 differant combiantions\n",
    "- 7 bits -- 128 differant combiantions \n",
    "- 8 bits -- 256 differant combiantions \n",
    "- 9 bits -- 512 differant combiantions \n",
    "- 10 bits -- 1024 differant combiantions "
   ]
  },
  {
   "cell_type": "markdown",
   "id": "0637b5e9",
   "metadata": {},
   "source": [
    "### Bytes - a combination of 8 bits"
   ]
  },
  {
   "cell_type": "code",
   "execution_count": null,
   "id": "e7ef8137",
   "metadata": {
    "vscode": {
     "languageId": "plaintext"
    }
   },
   "outputs": [],
   "source": []
  },
  {
   "cell_type": "markdown",
   "id": "3da49a57",
   "metadata": {},
   "source": [
    "0000 0101"
   ]
  },
  {
   "cell_type": "markdown",
   "id": "a31439cb",
   "metadata": {},
   "source": []
  }
 ],
 "metadata": {
  "language_info": {
   "name": "python"
  }
 },
 "nbformat": 4,
 "nbformat_minor": 5
}
